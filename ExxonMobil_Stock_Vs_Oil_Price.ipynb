{
  "nbformat": 4,
  "nbformat_minor": 0,
  "metadata": {
    "colab": {
      "name": "ExxonMobil Stock Vs Oil Price",
      "provenance": [],
      "collapsed_sections": [],
      "authorship_tag": "ABX9TyOhuHsdbRrTiyrwPM1w1sfD"
    },
    "kernelspec": {
      "name": "python3",
      "display_name": "Python 3"
    },
    "language_info": {
      "name": "python"
    }
  },
  "cells": [
    {
      "cell_type": "code",
      "metadata": {
        "id": "bF9qpSWjfVjq",
        "colab": {
          "base_uri": "https://localhost:8080/"
        },
        "outputId": "59e2694d-b000-4827-d23f-fae63b18dbac"
      },
      "source": [
        "#https://matplotlib.org/gallery/color/named_colors.html\n",
        "import pandas as pd\n",
        "import matplotlib.pyplot as plt\n",
        "import numpy as np\n",
        "import statsmodels.api as sm\n",
        "import math \n",
        "\n",
        "from sklearn.model_selection import train_test_split\n",
        "from sklearn.linear_model import LinearRegression\n",
        "from sklearn.metrics import mean_squared_error, r2_score, mean_absolute_error\n",
        "\n",
        "from scipy import stats\n",
        "from scipy.stats import kurtosis, skew\n",
        "\n",
        "%matplotlib inline"
      ],
      "execution_count": 1,
      "outputs": [
        {
          "output_type": "stream",
          "name": "stderr",
          "text": [
            "/usr/local/lib/python3.7/dist-packages/statsmodels/tools/_testing.py:19: FutureWarning: pandas.util.testing is deprecated. Use the functions in the public API at pandas.testing instead.\n",
            "  import pandas.util.testing as tm\n"
          ]
        }
      ]
    },
    {
      "cell_type": "code",
      "metadata": {
        "colab": {
          "base_uri": "https://localhost:8080/",
          "height": 234
        },
        "id": "8-44waaqfXvz",
        "outputId": "1d023f96-9c72-4a69-f25f-e642ec9b94ae"
      },
      "source": [
        "# load the data\n",
        "path = \"/content/oil_exxon.xlsx\"\n",
        "price_data = pd.read_excel(path)\n",
        "\n",
        "# set the index equal to the date column & then drop the old date column\n",
        "price_data.index = pd.to_datetime(price_data['date'])\n",
        "price_data = price_data.drop(['date'], axis = 1)\n",
        "\n",
        "# print the first five rows\n",
        "price_data.head()"
      ],
      "execution_count": 2,
      "outputs": [
        {
          "output_type": "execute_result",
          "data": {
            "text/html": [
              "<div>\n",
              "<style scoped>\n",
              "    .dataframe tbody tr th:only-of-type {\n",
              "        vertical-align: middle;\n",
              "    }\n",
              "\n",
              "    .dataframe tbody tr th {\n",
              "        vertical-align: top;\n",
              "    }\n",
              "\n",
              "    .dataframe thead th {\n",
              "        text-align: right;\n",
              "    }\n",
              "</style>\n",
              "<table border=\"1\" class=\"dataframe\">\n",
              "  <thead>\n",
              "    <tr style=\"text-align: right;\">\n",
              "      <th></th>\n",
              "      <th>exon_price</th>\n",
              "      <th>oil_price</th>\n",
              "    </tr>\n",
              "    <tr>\n",
              "      <th>date</th>\n",
              "      <th></th>\n",
              "      <th></th>\n",
              "    </tr>\n",
              "  </thead>\n",
              "  <tbody>\n",
              "    <tr>\n",
              "      <th>2014-03-28</th>\n",
              "      <td>97.699997</td>\n",
              "      <td>106.64</td>\n",
              "    </tr>\n",
              "    <tr>\n",
              "      <th>2014-03-31</th>\n",
              "      <td>97.680000</td>\n",
              "      <td>105.95</td>\n",
              "    </tr>\n",
              "    <tr>\n",
              "      <th>2014-04-01</th>\n",
              "      <td>97.730003</td>\n",
              "      <td>105.70</td>\n",
              "    </tr>\n",
              "    <tr>\n",
              "      <th>2014-04-02</th>\n",
              "      <td>97.949997</td>\n",
              "      <td>103.37</td>\n",
              "    </tr>\n",
              "    <tr>\n",
              "      <th>2014-04-03</th>\n",
              "      <td>97.930000</td>\n",
              "      <td>104.88</td>\n",
              "    </tr>\n",
              "  </tbody>\n",
              "</table>\n",
              "</div>"
            ],
            "text/plain": [
              "            exon_price  oil_price\n",
              "date                             \n",
              "2014-03-28   97.699997     106.64\n",
              "2014-03-31   97.680000     105.95\n",
              "2014-04-01   97.730003     105.70\n",
              "2014-04-02   97.949997     103.37\n",
              "2014-04-03   97.930000     104.88"
            ]
          },
          "metadata": {},
          "execution_count": 2
        }
      ]
    },
    {
      "cell_type": "code",
      "metadata": {
        "colab": {
          "base_uri": "https://localhost:8080/"
        },
        "id": "Ddff9kPnfZ9i",
        "outputId": "aa12e9a0-2ead-4db3-f1ed-090c493dc5fc"
      },
      "source": [
        "# check the data types, in this case everything looks fine no changes need to be made.\n",
        "price_data.dtypes"
      ],
      "execution_count": 3,
      "outputs": [
        {
          "output_type": "execute_result",
          "data": {
            "text/plain": [
              "exon_price    float64\n",
              "oil_price     float64\n",
              "dtype: object"
            ]
          },
          "metadata": {},
          "execution_count": 3
        }
      ]
    },
    {
      "cell_type": "code",
      "metadata": {
        "colab": {
          "base_uri": "https://localhost:8080/",
          "height": 234
        },
        "id": "Ael5hvoUfbzB",
        "outputId": "57baee89-b9c0-4e43-c928-a99ad4674ebe"
      },
      "source": [
        "# define the new name.\n",
        "new_column_names = {'exon_price':'exxon_price'}\n",
        "\n",
        "# rename the column\n",
        "price_data = price_data.rename(columns = new_column_names)\n",
        "price_data.head()"
      ],
      "execution_count": 4,
      "outputs": [
        {
          "output_type": "execute_result",
          "data": {
            "text/html": [
              "<div>\n",
              "<style scoped>\n",
              "    .dataframe tbody tr th:only-of-type {\n",
              "        vertical-align: middle;\n",
              "    }\n",
              "\n",
              "    .dataframe tbody tr th {\n",
              "        vertical-align: top;\n",
              "    }\n",
              "\n",
              "    .dataframe thead th {\n",
              "        text-align: right;\n",
              "    }\n",
              "</style>\n",
              "<table border=\"1\" class=\"dataframe\">\n",
              "  <thead>\n",
              "    <tr style=\"text-align: right;\">\n",
              "      <th></th>\n",
              "      <th>exxon_price</th>\n",
              "      <th>oil_price</th>\n",
              "    </tr>\n",
              "    <tr>\n",
              "      <th>date</th>\n",
              "      <th></th>\n",
              "      <th></th>\n",
              "    </tr>\n",
              "  </thead>\n",
              "  <tbody>\n",
              "    <tr>\n",
              "      <th>2014-03-28</th>\n",
              "      <td>97.699997</td>\n",
              "      <td>106.64</td>\n",
              "    </tr>\n",
              "    <tr>\n",
              "      <th>2014-03-31</th>\n",
              "      <td>97.680000</td>\n",
              "      <td>105.95</td>\n",
              "    </tr>\n",
              "    <tr>\n",
              "      <th>2014-04-01</th>\n",
              "      <td>97.730003</td>\n",
              "      <td>105.70</td>\n",
              "    </tr>\n",
              "    <tr>\n",
              "      <th>2014-04-02</th>\n",
              "      <td>97.949997</td>\n",
              "      <td>103.37</td>\n",
              "    </tr>\n",
              "    <tr>\n",
              "      <th>2014-04-03</th>\n",
              "      <td>97.930000</td>\n",
              "      <td>104.88</td>\n",
              "    </tr>\n",
              "  </tbody>\n",
              "</table>\n",
              "</div>"
            ],
            "text/plain": [
              "            exxon_price  oil_price\n",
              "date                              \n",
              "2014-03-28    97.699997     106.64\n",
              "2014-03-31    97.680000     105.95\n",
              "2014-04-01    97.730003     105.70\n",
              "2014-04-02    97.949997     103.37\n",
              "2014-04-03    97.930000     104.88"
            ]
          },
          "metadata": {},
          "execution_count": 4
        }
      ]
    },
    {
      "cell_type": "code",
      "metadata": {
        "colab": {
          "base_uri": "https://localhost:8080/",
          "height": 122
        },
        "id": "JbMCvW4Zfeu5",
        "outputId": "a7a483ea-5a5e-4310-ba3f-7b1181774a3c"
      },
      "source": [
        "# check for missing values\n",
        "display(price_data.isna().any())\n",
        "\n",
        "# drop any missing values\n",
        "price_data = price_data.dropna()\n",
        "\n",
        "# let's check to make sure they've all been removed.\n",
        "price_data.isna().any()"
      ],
      "execution_count": 5,
      "outputs": [
        {
          "output_type": "display_data",
          "data": {
            "text/plain": [
              "exxon_price    False\n",
              "oil_price       True\n",
              "dtype: bool"
            ]
          },
          "metadata": {}
        },
        {
          "output_type": "execute_result",
          "data": {
            "text/plain": [
              "exxon_price    False\n",
              "oil_price      False\n",
              "dtype: bool"
            ]
          },
          "metadata": {},
          "execution_count": 5
        }
      ]
    },
    {
      "cell_type": "code",
      "metadata": {
        "colab": {
          "base_uri": "https://localhost:8080/",
          "height": 295
        },
        "id": "vvqMwxOofgzB",
        "outputId": "ab9a65a6-f6d1-4328-d761-33273c8a998c"
      },
      "source": [
        "\n",
        "# define the x & y data.\n",
        "x = price_data['exxon_price']\n",
        "y = price_data['oil_price']\n",
        "\n",
        "# create the scatter plot.\n",
        "plt.plot(x, y, 'o', color ='cadetblue', label = 'Daily Price')\n",
        "\n",
        "# make sure it's formatted.\n",
        "plt.title(\"Exxon Vs. Oil\")\n",
        "plt.xlabel(\"Exxon Mobile\")\n",
        "plt.ylabel(\"Oil\")\n",
        "plt.legend()\n",
        "\n",
        "plt.show()"
      ],
      "execution_count": 6,
      "outputs": [
        {
          "output_type": "display_data",
          "data": {
            "image/png": "[encoded data removed]",
            "text/plain": [
              "<Figure size 432x288 with 1 Axes>"
            ]
          },
          "metadata": {
            "needs_background": "light"
          }
        }
      ]
    },
    {
      "cell_type": "code",
      "metadata": {
        "colab": {
          "base_uri": "https://localhost:8080/",
          "height": 110
        },
        "id": "UPA0FhxSfiS9",
        "outputId": "a8765ae7-aba3-4bf6-93a7-1a7e629ad3ed"
      },
      "source": [
        "# let's measure that correlation\n",
        "price_data.corr()"
      ],
      "execution_count": 7,
      "outputs": [
        {
          "output_type": "execute_result",
          "data": {
            "text/html": [
              "<div>\n",
              "<style scoped>\n",
              "    .dataframe tbody tr th:only-of-type {\n",
              "        vertical-align: middle;\n",
              "    }\n",
              "\n",
              "    .dataframe tbody tr th {\n",
              "        vertical-align: top;\n",
              "    }\n",
              "\n",
              "    .dataframe thead th {\n",
              "        text-align: right;\n",
              "    }\n",
              "</style>\n",
              "<table border=\"1\" class=\"dataframe\">\n",
              "  <thead>\n",
              "    <tr style=\"text-align: right;\">\n",
              "      <th></th>\n",
              "      <th>exxon_price</th>\n",
              "      <th>oil_price</th>\n",
              "    </tr>\n",
              "  </thead>\n",
              "  <tbody>\n",
              "    <tr>\n",
              "      <th>exxon_price</th>\n",
              "      <td>1.00000</td>\n",
              "      <td>0.60132</td>\n",
              "    </tr>\n",
              "    <tr>\n",
              "      <th>oil_price</th>\n",
              "      <td>0.60132</td>\n",
              "      <td>1.00000</td>\n",
              "    </tr>\n",
              "  </tbody>\n",
              "</table>\n",
              "</div>"
            ],
            "text/plain": [
              "             exxon_price  oil_price\n",
              "exxon_price      1.00000    0.60132\n",
              "oil_price        0.60132    1.00000"
            ]
          },
          "metadata": {},
          "execution_count": 7
        }
      ]
    },
    {
      "cell_type": "code",
      "metadata": {
        "colab": {
          "base_uri": "https://localhost:8080/",
          "height": 295
        },
        "id": "c8Q-Jh1wflB1",
        "outputId": "ea8b734b-313c-4185-f2f7-ea2c3caf2639"
      },
      "source": [
        "# let's take a look at a statistical summary.\n",
        "price_data.describe()"
      ],
      "execution_count": 8,
      "outputs": [
        {
          "output_type": "execute_result",
          "data": {
            "text/html": [
              "<div>\n",
              "<style scoped>\n",
              "    .dataframe tbody tr th:only-of-type {\n",
              "        vertical-align: middle;\n",
              "    }\n",
              "\n",
              "    .dataframe tbody tr th {\n",
              "        vertical-align: top;\n",
              "    }\n",
              "\n",
              "    .dataframe thead th {\n",
              "        text-align: right;\n",
              "    }\n",
              "</style>\n",
              "<table border=\"1\" class=\"dataframe\">\n",
              "  <thead>\n",
              "    <tr style=\"text-align: right;\">\n",
              "      <th></th>\n",
              "      <th>exxon_price</th>\n",
              "      <th>oil_price</th>\n",
              "    </tr>\n",
              "  </thead>\n",
              "  <tbody>\n",
              "    <tr>\n",
              "      <th>count</th>\n",
              "      <td>1248.000000</td>\n",
              "      <td>1248.000000</td>\n",
              "    </tr>\n",
              "    <tr>\n",
              "      <th>mean</th>\n",
              "      <td>84.802796</td>\n",
              "      <td>61.935000</td>\n",
              "    </tr>\n",
              "    <tr>\n",
              "      <th>std</th>\n",
              "      <td>7.424687</td>\n",
              "      <td>19.288424</td>\n",
              "    </tr>\n",
              "    <tr>\n",
              "      <th>min</th>\n",
              "      <td>68.120003</td>\n",
              "      <td>26.010000</td>\n",
              "    </tr>\n",
              "    <tr>\n",
              "      <th>25%</th>\n",
              "      <td>80.190002</td>\n",
              "      <td>48.162500</td>\n",
              "    </tr>\n",
              "    <tr>\n",
              "      <th>50%</th>\n",
              "      <td>83.024998</td>\n",
              "      <td>57.120000</td>\n",
              "    </tr>\n",
              "    <tr>\n",
              "      <th>75%</th>\n",
              "      <td>88.529999</td>\n",
              "      <td>70.725000</td>\n",
              "    </tr>\n",
              "    <tr>\n",
              "      <th>max</th>\n",
              "      <td>104.379997</td>\n",
              "      <td>115.190000</td>\n",
              "    </tr>\n",
              "  </tbody>\n",
              "</table>\n",
              "</div>"
            ],
            "text/plain": [
              "       exxon_price    oil_price\n",
              "count  1248.000000  1248.000000\n",
              "mean     84.802796    61.935000\n",
              "std       7.424687    19.288424\n",
              "min      68.120003    26.010000\n",
              "25%      80.190002    48.162500\n",
              "50%      83.024998    57.120000\n",
              "75%      88.529999    70.725000\n",
              "max     104.379997   115.190000"
            ]
          },
          "metadata": {},
          "execution_count": 8
        }
      ]
    },
    {
      "cell_type": "code",
      "metadata": {
        "colab": {
          "base_uri": "https://localhost:8080/",
          "height": 334
        },
        "id": "Xpp5uVPvfnk8",
        "outputId": "7501f7ed-8cbc-44c6-ccfb-ef54debaa109"
      },
      "source": [
        "price_data.hist(grid = False, color = 'cadetblue')"
      ],
      "execution_count": 9,
      "outputs": [
        {
          "output_type": "execute_result",
          "data": {
            "text/plain": [
              "array([[<matplotlib.axes._subplots.AxesSubplot object at 0x7f60b260ced0>,\n",
              "        <matplotlib.axes._subplots.AxesSubplot object at 0x7f60b25bc0d0>]],\n",
              "      dtype=object)"
            ]
          },
          "metadata": {},
          "execution_count": 9
        },
        {
          "output_type": "display_data",
          "data": {
            "image/png": "[encoded data removed]",
            "text/plain": [
              "<Figure size 432x288 with 2 Axes>"
            ]
          },
          "metadata": {
            "needs_background": "light"
          }
        }
      ]
    },
    {
      "cell_type": "code",
      "metadata": {
        "colab": {
          "base_uri": "https://localhost:8080/",
          "height": 89
        },
        "id": "V78hfiqffqmV",
        "outputId": "f6115c5c-0903-4da8-dc96-39e6e9216fc0"
      },
      "source": [
        "# calculate the excess kurtosis using the fisher method. The alternative is Pearson which calculates regular kurtosis.\n",
        "exxon_kurtosis = kurtosis(price_data['exxon_price'], fisher = True)\n",
        "oil_kurtosis = kurtosis(price_data['oil_price'], fisher = True)\n",
        "\n",
        "# calculate the skewness\n",
        "exxon_skew = skew(price_data['exxon_price'])\n",
        "oil_skew = skew(price_data['oil_price'])\n",
        "\n",
        "display(\"Exxon Excess Kurtosis: {:.2}\".format(exxon_kurtosis))  # this looks fine\n",
        "display(\"Oil Excess Kurtosis: {:.2}\".format(oil_kurtosis))      # this looks fine\n",
        "\n",
        "display(\"Exxon Skew: {:.2}\".format(exxon_skew))          # moderately skewed\n",
        "display(\"Oil Skew: {:.2}\".format(oil_skew))              # moderately skewed, it's a little high but we will accept it."
      ],
      "execution_count": 10,
      "outputs": [
        {
          "output_type": "display_data",
          "data": {
            "application/vnd.google.colaboratory.intrinsic+json": {
              "type": "string"
            },
            "text/plain": [
              "'Exxon Excess Kurtosis: 0.088'"
            ]
          },
          "metadata": {}
        },
        {
          "output_type": "display_data",
          "data": {
            "application/vnd.google.colaboratory.intrinsic+json": {
              "type": "string"
            },
            "text/plain": [
              "'Oil Excess Kurtosis: 0.53'"
            ]
          },
          "metadata": {}
        },
        {
          "output_type": "display_data",
          "data": {
            "application/vnd.google.colaboratory.intrinsic+json": {
              "type": "string"
            },
            "text/plain": [
              "'Exxon Skew: 0.66'"
            ]
          },
          "metadata": {}
        },
        {
          "output_type": "display_data",
          "data": {
            "application/vnd.google.colaboratory.intrinsic+json": {
              "type": "string"
            },
            "text/plain": [
              "'Oil Skew: 1.0'"
            ]
          },
          "metadata": {}
        }
      ]
    },
    {
      "cell_type": "code",
      "metadata": {
        "colab": {
          "base_uri": "https://localhost:8080/",
          "height": 159
        },
        "id": "mDxhIWsvftFd",
        "outputId": "aa52b894-f40d-4f4e-a71a-f064d407ac6b"
      },
      "source": [
        "# perform a kurtosis test\n",
        "display('Exxon')\n",
        "display(stats.kurtosistest(price_data['exxon_price']))\n",
        "display('Oil')\n",
        "display(stats.kurtosistest(price_data['oil_price']))\n",
        "\n",
        "# perform a skew test\n",
        "display('Exxon')\n",
        "display(stats.skewtest(price_data['exxon_price']))\n",
        "display('Oil')\n",
        "display(stats.skewtest(price_data['oil_price']))"
      ],
      "execution_count": 11,
      "outputs": [
        {
          "output_type": "display_data",
          "data": {
            "application/vnd.google.colaboratory.intrinsic+json": {
              "type": "string"
            },
            "text/plain": [
              "'Exxon'"
            ]
          },
          "metadata": {}
        },
        {
          "output_type": "display_data",
          "data": {
            "text/plain": [
              "KurtosistestResult(statistic=0.7185349375030217, pvalue=0.47242751383320714)"
            ]
          },
          "metadata": {}
        },
        {
          "output_type": "display_data",
          "data": {
            "application/vnd.google.colaboratory.intrinsic+json": {
              "type": "string"
            },
            "text/plain": [
              "'Oil'"
            ]
          },
          "metadata": {}
        },
        {
          "output_type": "display_data",
          "data": {
            "text/plain": [
              "KurtosistestResult(statistic=3.193868719980946, pvalue=0.0014037993965471192)"
            ]
          },
          "metadata": {}
        },
        {
          "output_type": "display_data",
          "data": {
            "application/vnd.google.colaboratory.intrinsic+json": {
              "type": "string"
            },
            "text/plain": [
              "'Exxon'"
            ]
          },
          "metadata": {}
        },
        {
          "output_type": "display_data",
          "data": {
            "text/plain": [
              "SkewtestResult(statistic=8.770169400598549, pvalue=1.7839768456341654e-18)"
            ]
          },
          "metadata": {}
        },
        {
          "output_type": "display_data",
          "data": {
            "application/vnd.google.colaboratory.intrinsic+json": {
              "type": "string"
            },
            "text/plain": [
              "'Oil'"
            ]
          },
          "metadata": {}
        },
        {
          "output_type": "display_data",
          "data": {
            "text/plain": [
              "SkewtestResult(statistic=12.471137868018896, pvalue=1.0728306198159925e-35)"
            ]
          },
          "metadata": {}
        }
      ]
    },
    {
      "cell_type": "code",
      "metadata": {
        "id": "_upHZI67fwh8"
      },
      "source": [
        "# define our input variable (X) & output variable.\n",
        "Y = price_data.drop('oil_price', axis = 1)\n",
        "X = price_data[['oil_price']]\n",
        "\n",
        "# Split X and y into X_\n",
        "X_train, X_test, y_train, y_test = train_test_split(X, Y, test_size=0.30, random_state=1)"
      ],
      "execution_count": 12,
      "outputs": []
    },
    {
      "cell_type": "code",
      "metadata": {
        "colab": {
          "base_uri": "https://localhost:8080/"
        },
        "id": "5mka6rRbfzIQ",
        "outputId": "474c1cd5-ce3f-4411-994e-3e1dbfdff2f5"
      },
      "source": [
        "\n",
        "# create a Linear Regression model object.\n",
        "regression_model = LinearRegression()\n",
        "\n",
        "# pass through the X_train & y_train data set.\n",
        "regression_model.fit(X_train, y_train)"
      ],
      "execution_count": 13,
      "outputs": [
        {
          "output_type": "execute_result",
          "data": {
            "text/plain": [
              "LinearRegression(copy_X=True, fit_intercept=True, n_jobs=None, normalize=False)"
            ]
          },
          "metadata": {},
          "execution_count": 13
        }
      ]
    },
    {
      "cell_type": "code",
      "metadata": {
        "colab": {
          "base_uri": "https://localhost:8080/"
        },
        "id": "55Isqe24f1KR",
        "outputId": "57e8f130-ae18-4317-c2f4-b6774861b93f"
      },
      "source": [
        "# let's grab the coefficient of our model and the intercept.\n",
        "intercept = regression_model.intercept_[0]\n",
        "coefficient = regression_model.coef_[0][0]\n",
        "\n",
        "print(\"The Coefficient for our model is {:.2}\".format(coefficient))\n",
        "print(\"The intercept for our model is {:.4}\".format(intercept))"
      ],
      "execution_count": 14,
      "outputs": [
        {
          "output_type": "stream",
          "name": "stdout",
          "text": [
            "The Coefficient for our model is 0.24\n",
            "The intercept for our model is 70.01\n"
          ]
        }
      ]
    },
    {
      "cell_type": "code",
      "metadata": {
        "colab": {
          "base_uri": "https://localhost:8080/"
        },
        "id": "QvqRsp7wf3yo",
        "outputId": "e90950d0-8296-4978-f472-cc68424d5bb3"
      },
      "source": [
        "# let's test a prediction\n",
        "prediction = regression_model.predict([[67.33]])\n",
        "predicted_value = prediction[0][0]\n",
        "print(\"The predicted value is {:.4}\".format(predicted_value))"
      ],
      "execution_count": 15,
      "outputs": [
        {
          "output_type": "stream",
          "name": "stdout",
          "text": [
            "The predicted value is 85.95\n"
          ]
        }
      ]
    },
    {
      "cell_type": "code",
      "metadata": {
        "colab": {
          "base_uri": "https://localhost:8080/"
        },
        "id": "qZW7ZONkf8E2",
        "outputId": "6fe23b9c-fdd7-43a3-d362-14cc4dcb90f5"
      },
      "source": [
        "# Get multiple predictions.\n",
        "y_predict = regression_model.predict(X_test)\n",
        "\n",
        "# Show the first 5 predictions\n",
        "y_predict[:5]"
      ],
      "execution_count": 16,
      "outputs": [
        {
          "output_type": "execute_result",
          "data": {
            "text/plain": [
              "array([[82.23530265],\n",
              "       [82.87451035],\n",
              "       [81.48245802],\n",
              "       [78.9256272 ],\n",
              "       [84.01324704]])"
            ]
          },
          "metadata": {},
          "execution_count": 16
        }
      ]
    },
    {
      "cell_type": "code",
      "metadata": {
        "id": "v8hnocUVf-KZ"
      },
      "source": [
        "# define our intput\n",
        "X2 = sm.add_constant(X)\n",
        "\n",
        "# create a OLS model.\n",
        "model = sm.OLS(Y, X2)\n",
        "\n",
        "# fit the data\n",
        "est = model.fit()"
      ],
      "execution_count": 17,
      "outputs": []
    },
    {
      "cell_type": "code",
      "metadata": {
        "colab": {
          "base_uri": "https://localhost:8080/",
          "height": 110
        },
        "id": "NyTaJIuGgATJ",
        "outputId": "fd1894ef-871a-4eb5-adb0-5adf3fc04aa2"
      },
      "source": [
        "\n",
        "# make some confidence intervals, 95% by default.\n",
        "est.conf_int()"
      ],
      "execution_count": 18,
      "outputs": [
        {
          "output_type": "execute_result",
          "data": {
            "text/html": [
              "<div>\n",
              "<style scoped>\n",
              "    .dataframe tbody tr th:only-of-type {\n",
              "        vertical-align: middle;\n",
              "    }\n",
              "\n",
              "    .dataframe tbody tr th {\n",
              "        vertical-align: top;\n",
              "    }\n",
              "\n",
              "    .dataframe thead th {\n",
              "        text-align: right;\n",
              "    }\n",
              "</style>\n",
              "<table border=\"1\" class=\"dataframe\">\n",
              "  <thead>\n",
              "    <tr style=\"text-align: right;\">\n",
              "      <th></th>\n",
              "      <th>0</th>\n",
              "      <th>1</th>\n",
              "    </tr>\n",
              "  </thead>\n",
              "  <tbody>\n",
              "    <tr>\n",
              "      <th>const</th>\n",
              "      <td>69.358126</td>\n",
              "      <td>71.57579</td>\n",
              "    </tr>\n",
              "    <tr>\n",
              "      <th>oil_price</th>\n",
              "      <td>0.214372</td>\n",
              "      <td>0.24856</td>\n",
              "    </tr>\n",
              "  </tbody>\n",
              "</table>\n",
              "</div>"
            ],
            "text/plain": [
              "                   0         1\n",
              "const      69.358126  71.57579\n",
              "oil_price   0.214372   0.24856"
            ]
          },
          "metadata": {},
          "execution_count": 18
        }
      ]
    },
    {
      "cell_type": "code",
      "metadata": {
        "colab": {
          "base_uri": "https://localhost:8080/"
        },
        "id": "bE9NjJHzgB9N",
        "outputId": "74e9fbd3-603f-4aeb-a3ac-644d151ce955"
      },
      "source": [
        "# estimate the p-values.\n",
        "est.pvalues"
      ],
      "execution_count": 19,
      "outputs": [
        {
          "output_type": "execute_result",
          "data": {
            "text/plain": [
              "const         0.000000e+00\n",
              "oil_price    1.423529e-123\n",
              "dtype: float64"
            ]
          },
          "metadata": {},
          "execution_count": 19
        }
      ]
    },
    {
      "cell_type": "code",
      "metadata": {
        "colab": {
          "base_uri": "https://localhost:8080/"
        },
        "id": "so7-Mz3EgD8R",
        "outputId": "38d86fd3-165c-4ae7-b71c-5fbd8056c5da"
      },
      "source": [
        "# calculate the mean squared error.\n",
        "model_mse = mean_squared_error(y_test, y_predict)\n",
        "\n",
        "# calculate the mean absolute error.\n",
        "model_mae = mean_absolute_error(y_test, y_predict)\n",
        "\n",
        "# calulcate the root mean squared error\n",
        "model_rmse =  math.sqrt(model_mse)\n",
        "\n",
        "# display the output\n",
        "print(\"MSE {:.3}\".format(model_mse))\n",
        "print(\"MAE {:.3}\".format(model_mae))\n",
        "print(\"RMSE {:.3}\".format(model_rmse))"
      ],
      "execution_count": 20,
      "outputs": [
        {
          "output_type": "stream",
          "name": "stdout",
          "text": [
            "MSE 38.4\n",
            "MAE 5.03\n",
            "RMSE 6.2\n"
          ]
        }
      ]
    },
    {
      "cell_type": "code",
      "metadata": {
        "colab": {
          "base_uri": "https://localhost:8080/"
        },
        "id": "SPf5Cat3gHS1",
        "outputId": "6682ffec-71b3-49f8-951d-67c0852aa21a"
      },
      "source": [
        "model_r2 = r2_score(y_test, y_predict)\n",
        "print(\"R2: {:.2}\".format(model_r2))"
      ],
      "execution_count": 21,
      "outputs": [
        {
          "output_type": "stream",
          "name": "stdout",
          "text": [
            "R2: 0.31\n"
          ]
        }
      ]
    },
    {
      "cell_type": "code",
      "metadata": {
        "colab": {
          "base_uri": "https://localhost:8080/"
        },
        "id": "Cvdb5uRQgJ_8",
        "outputId": "e54d2b95-11fa-449b-fa27-6761be128c60"
      },
      "source": [
        "# print out a summary\n",
        "print(est.summary())"
      ],
      "execution_count": 22,
      "outputs": [
        {
          "output_type": "stream",
          "name": "stdout",
          "text": [
            "                            OLS Regression Results                            \n",
            "==============================================================================\n",
            "Dep. Variable:            exxon_price   R-squared:                       0.362\n",
            "Model:                            OLS   Adj. R-squared:                  0.361\n",
            "Method:                 Least Squares   F-statistic:                     705.7\n",
            "Date:                Sat, 18 Sep 2021   Prob (F-statistic):          1.42e-123\n",
            "Time:                        19:52:21   Log-Likelihood:                -3992.3\n",
            "No. Observations:                1248   AIC:                             7989.\n",
            "Df Residuals:                    1246   BIC:                             7999.\n",
            "Df Model:                           1                                         \n",
            "Covariance Type:            nonrobust                                         \n",
            "==============================================================================\n",
            "                 coef    std err          t      P>|t|      [0.025      0.975]\n",
            "------------------------------------------------------------------------------\n",
            "const         70.4670      0.565    124.678      0.000      69.358      71.576\n",
            "oil_price      0.2315      0.009     26.565      0.000       0.214       0.249\n",
            "==============================================================================\n",
            "Omnibus:                       61.541   Durbin-Watson:                   0.024\n",
            "Prob(Omnibus):                  0.000   Jarque-Bera (JB):               31.074\n",
            "Skew:                          -0.198   Prob(JB):                     1.79e-07\n",
            "Kurtosis:                       2.337   Cond. No.                         218.\n",
            "==============================================================================\n",
            "\n",
            "Warnings:\n",
            "[1] Standard Errors assume that the covariance matrix of the errors is correctly specified.\n"
          ]
        }
      ]
    },
    {
      "cell_type": "code",
      "metadata": {
        "colab": {
          "base_uri": "https://localhost:8080/",
          "height": 281
        },
        "id": "eYkmBzM2gNAG",
        "outputId": "51f398d9-5c0a-4391-988e-336463371838"
      },
      "source": [
        "# Grab the residuals & then call the hist() method\n",
        "(y_test - y_predict).hist(grid = False, color = 'royalblue')\n",
        "plt.title(\"Model Residuals\")\n",
        "plt.show()"
      ],
      "execution_count": 23,
      "outputs": [
        {
          "output_type": "display_data",
          "data": {
            "image/png": "[encoded data removed]",
            "text/plain": [
              "<Figure size 432x288 with 1 Axes>"
            ]
          },
          "metadata": {
            "needs_background": "light"
          }
        }
      ]
    },
    {
      "cell_type": "code",
      "metadata": {
        "colab": {
          "base_uri": "https://localhost:8080/",
          "height": 366
        },
        "id": "d5CXzR6zgPAB",
        "outputId": "0ff30c32-7433-4638-8934-d4bcbac16d41"
      },
      "source": [
        "# Plot outputs\n",
        "plt.scatter(X_test, y_test,  color='gainsboro', label = 'Price')\n",
        "plt.plot(X_test, y_predict, color='royalblue', linewidth = 3, linestyle= '-',label ='Regression Line')\n",
        "\n",
        "plt.title(\"Linear Regression Exxon Mobile Vs. Oil\")\n",
        "plt.xlabel(\"Oil\")\n",
        "plt.ylabel(\"Exxon Mobile\")\n",
        "plt.legend()\n",
        "plt.show()\n",
        "\n",
        "# The coefficients\n",
        "print('Oil coefficient:' + '\\033[1m' + '{:.2}''\\033[0m'.format(regression_model.coef_[0][0]))\n",
        "\n",
        "# The mean squared error\n",
        "print('Mean squared error: ' + '\\033[1m' + '{:.4}''\\033[0m'.format(model_mse))\n",
        "\n",
        "# The mean squared error\n",
        "print('Root Mean squared error: ' + '\\033[1m' + '{:.4}''\\033[0m'.format(math.sqrt(model_mse)))\n",
        "\n",
        "# Explained variance score: 1 is perfect prediction\n",
        "print('R2 score: '+ '\\033[1m' + '{:.2}''\\033[0m'.format(r2_score(y_test,y_predict)))"
      ],
      "execution_count": 24,
      "outputs": [
        {
          "output_type": "display_data",
          "data": {
            "image/png": "[encoded data removed]",
            "text/plain": [
              "<Figure size 432x288 with 1 Axes>"
            ]
          },
          "metadata": {
            "needs_background": "light"
          }
        },
        {
          "output_type": "stream",
          "name": "stdout",
          "text": [
            "Oil coefficient:\u001b[1m0.24\u001b[0m\n",
            "Mean squared error: \u001b[1m38.44\u001b[0m\n",
            "Root Mean squared error: \u001b[1m6.2\u001b[0m\n",
            "R2 score: \u001b[1m0.31\u001b[0m\n"
          ]
        }
      ]
    },
    {
      "cell_type": "code",
      "metadata": {
        "colab": {
          "base_uri": "https://localhost:8080/"
        },
        "id": "tjPhlRZVgR1c",
        "outputId": "35078190-d667-4bfd-b302-acb1ab3efca5"
      },
      "source": [
        "import pickle\n",
        "\n",
        "# pickle the model.\n",
        "with open('my_linear_regression.sav','wb') as f:\n",
        "     pickle.dump(regression_model,f)\n",
        "\n",
        "# load it back in.\n",
        "with open('my_linear_regression.sav', 'rb') as pickle_file:\n",
        "     regression_model_2 = pickle.load(pickle_file)\n",
        "\n",
        "# make a new prediction.\n",
        "regression_model_2.predict([[67.33]])"
      ],
      "execution_count": 25,
      "outputs": [
        {
          "output_type": "execute_result",
          "data": {
            "text/plain": [
              "array([[85.94980965]])"
            ]
          },
          "metadata": {},
          "execution_count": 25
        }
      ]
    },
    {
      "cell_type": "code",
      "metadata": {
        "id": "vu9OnssogVnQ"
      },
      "source": [
        ""
      ],
      "execution_count": 25,
      "outputs": []
    }
  ]
}